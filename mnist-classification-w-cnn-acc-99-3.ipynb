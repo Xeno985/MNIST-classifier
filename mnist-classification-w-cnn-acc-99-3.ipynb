{
 "cells": [
  {
   "cell_type": "code",
   "execution_count": 1,
   "id": "d24f01bf",
   "metadata": {
    "_cell_guid": "b1076dfc-b9ad-4769-8c92-a6c4dae69d19",
    "_uuid": "8f2839f25d086af736a60e9eeb907d3b93b6e0e5",
    "execution": {
     "iopub.execute_input": "2024-03-12T10:36:41.593823Z",
     "iopub.status.busy": "2024-03-12T10:36:41.593295Z",
     "iopub.status.idle": "2024-03-12T10:36:42.950317Z",
     "shell.execute_reply": "2024-03-12T10:36:42.949326Z"
    },
    "papermill": {
     "duration": 1.367376,
     "end_time": "2024-03-12T10:36:42.952771",
     "exception": false,
     "start_time": "2024-03-12T10:36:41.585395",
     "status": "completed"
    },
    "tags": []
   },
   "outputs": [
    {
     "name": "stdout",
     "output_type": "stream",
     "text": [
      "/kaggle/input/mnist-dataset/train-images.idx3-ubyte\n",
      "/kaggle/input/mnist-dataset/t10k-labels.idx1-ubyte\n",
      "/kaggle/input/mnist-dataset/t10k-images.idx3-ubyte\n",
      "/kaggle/input/mnist-dataset/train-labels.idx1-ubyte\n",
      "/kaggle/input/mnist-dataset/t10k-labels-idx1-ubyte/t10k-labels-idx1-ubyte\n",
      "/kaggle/input/mnist-dataset/t10k-images-idx3-ubyte/t10k-images-idx3-ubyte\n",
      "/kaggle/input/mnist-dataset/train-labels-idx1-ubyte/train-labels-idx1-ubyte\n",
      "/kaggle/input/mnist-dataset/train-images-idx3-ubyte/train-images-idx3-ubyte\n"
     ]
    }
   ],
   "source": [
    "# This Python 3 environment comes with many helpful analytics libraries installed\n",
    "# It is defined by the kaggle/python Docker image: https://github.com/kaggle/docker-python\n",
    "# For example, here's several helpful packages to load\n",
    "\n",
    "import numpy as np # linear algebra\n",
    "import pandas as pd # data processing, CSV file I/O (e.g. pd.read_csv)\n",
    "\n",
    "# Input data files are available in the read-only \"../input/\" directory\n",
    "# For example, running this (by clicking run or pressing Shift+Enter) will list all files under the input directory\n",
    "\n",
    "import os\n",
    "for dirname, _, filenames in os.walk('/kaggle/input'):\n",
    "    for filename in filenames:\n",
    "        print(os.path.join(dirname, filename))\n",
    "\n",
    "# You can write up to 20GB to the current directory (/kaggle/working/) that gets preserved as output when you create a version using \"Save & Run All\" \n",
    "# You can also write temporary files to /kaggle/temp/, but they won't be saved outside of the current session"
   ]
  },
  {
   "cell_type": "code",
   "execution_count": 2,
   "id": "18cb8e75",
   "metadata": {
    "execution": {
     "iopub.execute_input": "2024-03-12T10:36:42.961667Z",
     "iopub.status.busy": "2024-03-12T10:36:42.961263Z",
     "iopub.status.idle": "2024-03-12T10:36:43.916742Z",
     "shell.execute_reply": "2024-03-12T10:36:43.915496Z"
    },
    "papermill": {
     "duration": 0.962789,
     "end_time": "2024-03-12T10:36:43.919338",
     "exception": false,
     "start_time": "2024-03-12T10:36:42.956549",
     "status": "completed"
    },
    "tags": []
   },
   "outputs": [],
   "source": [
    "import mnist\n",
    "xtrain, xtest, ytrain, ytest = mnist.train_images(), mnist.test_images(), mnist.train_labels(), mnist.test_labels()"
   ]
  },
  {
   "cell_type": "code",
   "execution_count": 3,
   "id": "d1c89e42",
   "metadata": {
    "execution": {
     "iopub.execute_input": "2024-03-12T10:36:43.927951Z",
     "iopub.status.busy": "2024-03-12T10:36:43.927409Z",
     "iopub.status.idle": "2024-03-12T10:36:43.932527Z",
     "shell.execute_reply": "2024-03-12T10:36:43.931692Z"
    },
    "papermill": {
     "duration": 0.011478,
     "end_time": "2024-03-12T10:36:43.934521",
     "exception": false,
     "start_time": "2024-03-12T10:36:43.923043",
     "status": "completed"
    },
    "tags": []
   },
   "outputs": [
    {
     "name": "stdout",
     "output_type": "stream",
     "text": [
      "(60000, 28, 28)\n",
      "(10000, 28, 28)\n",
      "(60000,)\n",
      "(10000,)\n"
     ]
    }
   ],
   "source": [
    "print(xtrain.shape)\n",
    "print(xtest.shape)\n",
    "print(ytrain.shape)\n",
    "print(ytest.shape)"
   ]
  },
  {
   "cell_type": "code",
   "execution_count": 4,
   "id": "2c5bc729",
   "metadata": {
    "execution": {
     "iopub.execute_input": "2024-03-12T10:36:43.943231Z",
     "iopub.status.busy": "2024-03-12T10:36:43.942946Z",
     "iopub.status.idle": "2024-03-12T10:36:43.947737Z",
     "shell.execute_reply": "2024-03-12T10:36:43.946788Z"
    },
    "papermill": {
     "duration": 0.011502,
     "end_time": "2024-03-12T10:36:43.949741",
     "exception": false,
     "start_time": "2024-03-12T10:36:43.938239",
     "status": "completed"
    },
    "tags": []
   },
   "outputs": [],
   "source": [
    "def normalization(data):\n",
    " return (data/255)"
   ]
  },
  {
   "cell_type": "code",
   "execution_count": 5,
   "id": "897f07b0",
   "metadata": {
    "execution": {
     "iopub.execute_input": "2024-03-12T10:36:43.957829Z",
     "iopub.status.busy": "2024-03-12T10:36:43.957460Z",
     "iopub.status.idle": "2024-03-12T10:36:44.100908Z",
     "shell.execute_reply": "2024-03-12T10:36:44.099796Z"
    },
    "papermill": {
     "duration": 0.150261,
     "end_time": "2024-03-12T10:36:44.103429",
     "exception": false,
     "start_time": "2024-03-12T10:36:43.953168",
     "status": "completed"
    },
    "tags": []
   },
   "outputs": [],
   "source": [
    "#Normalization\n",
    "xtrain=normalization(xtrain)\n",
    "xtest=normalization(xtest)\n"
   ]
  },
  {
   "cell_type": "code",
   "execution_count": 6,
   "id": "f609c957",
   "metadata": {
    "execution": {
     "iopub.execute_input": "2024-03-12T10:36:44.113419Z",
     "iopub.status.busy": "2024-03-12T10:36:44.112359Z",
     "iopub.status.idle": "2024-03-12T10:37:04.283915Z",
     "shell.execute_reply": "2024-03-12T10:37:04.282804Z"
    },
    "papermill": {
     "duration": 20.179159,
     "end_time": "2024-03-12T10:37:04.286491",
     "exception": false,
     "start_time": "2024-03-12T10:36:44.107332",
     "status": "completed"
    },
    "tags": []
   },
   "outputs": [
    {
     "name": "stderr",
     "output_type": "stream",
     "text": [
      "2024-03-12 10:36:48.259659: E external/local_xla/xla/stream_executor/cuda/cuda_dnn.cc:9261] Unable to register cuDNN factory: Attempting to register factory for plugin cuDNN when one has already been registered\n",
      "2024-03-12 10:36:48.259793: E external/local_xla/xla/stream_executor/cuda/cuda_fft.cc:607] Unable to register cuFFT factory: Attempting to register factory for plugin cuFFT when one has already been registered\n",
      "2024-03-12 10:36:48.552201: E external/local_xla/xla/stream_executor/cuda/cuda_blas.cc:1515] Unable to register cuBLAS factory: Attempting to register factory for plugin cuBLAS when one has already been registered\n"
     ]
    }
   ],
   "source": [
    "from keras.utils import to_categorical\n",
    "ytrain=to_categorical(ytrain)\n",
    "ytest=to_categorical(ytest)"
   ]
  },
  {
   "cell_type": "code",
   "execution_count": 7,
   "id": "b4c6f5c1",
   "metadata": {
    "execution": {
     "iopub.execute_input": "2024-03-12T10:37:04.303125Z",
     "iopub.status.busy": "2024-03-12T10:37:04.302519Z",
     "iopub.status.idle": "2024-03-12T10:37:05.518168Z",
     "shell.execute_reply": "2024-03-12T10:37:05.517298Z"
    },
    "papermill": {
     "duration": 1.224701,
     "end_time": "2024-03-12T10:37:05.520633",
     "exception": false,
     "start_time": "2024-03-12T10:37:04.295932",
     "status": "completed"
    },
    "tags": []
   },
   "outputs": [
    {
     "name": "stderr",
     "output_type": "stream",
     "text": [
      "/opt/conda/lib/python3.10/site-packages/keras/src/layers/convolutional/base_conv.py:99: UserWarning: Do not pass an `input_shape`/`input_dim` argument to a layer. When using Sequential models, prefer using an `Input(shape)` object as the first layer in the model instead.\n",
      "  super().__init__(\n"
     ]
    }
   ],
   "source": [
    "from keras.layers import Conv2D, MaxPool2D, Flatten, Dense, Dropout\n",
    "from keras.models import Sequential\n",
    "cnn = Sequential([\n",
    "Conv2D(filters=32, kernel_size=(3, 3), padding='same', strides=(1,1), activation='relu', input_shape=(28, 28, 1)),\n",
    "MaxPool2D(pool_size=(2, 2), strides=(2, 2)),\n",
    "Dropout(0.2),\n",
    "Conv2D(filters=64, kernel_size=(3, 3), padding='same', strides=(1,1), activation='relu'),\n",
    "MaxPool2D(pool_size=(2, 2), strides=(2, 2)),\n",
    "Dropout(0.2),\n",
    "Flatten(),\n",
    "Dense(units=128, activation='relu'),\n",
    "Dense(units=10, activation='softmax'),\n",
    "])\n"
   ]
  },
  {
   "cell_type": "code",
   "execution_count": 8,
   "id": "ae3ae82b",
   "metadata": {
    "execution": {
     "iopub.execute_input": "2024-03-12T10:37:05.530067Z",
     "iopub.status.busy": "2024-03-12T10:37:05.529748Z",
     "iopub.status.idle": "2024-03-12T10:37:32.882911Z",
     "shell.execute_reply": "2024-03-12T10:37:32.881833Z"
    },
    "papermill": {
     "duration": 27.360679,
     "end_time": "2024-03-12T10:37:32.885480",
     "exception": false,
     "start_time": "2024-03-12T10:37:05.524801",
     "status": "completed"
    },
    "tags": []
   },
   "outputs": [
    {
     "name": "stdout",
     "output_type": "stream",
     "text": [
      "Epoch 1/9\n",
      "\u001b[1m 22/235\u001b[0m \u001b[32m━\u001b[0m\u001b[37m━━━━━━━━━━━━━━━━━━━\u001b[0m \u001b[1m1s\u001b[0m 8ms/step - acc: 0.4310 - loss: 1.8287"
     ]
    },
    {
     "name": "stderr",
     "output_type": "stream",
     "text": [
      "WARNING: All log messages before absl::InitializeLog() is called are written to STDERR\n",
      "I0000 00:00:1710239834.901350      74 device_compiler.h:186] Compiled cluster using XLA!  This line is logged at most once for the lifetime of the process.\n",
      "W0000 00:00:1710239834.917156      74 graph_launch.cc:671] Fallback to op-by-op mode because memset node breaks graph update\n"
     ]
    },
    {
     "name": "stdout",
     "output_type": "stream",
     "text": [
      "\u001b[1m235/235\u001b[0m \u001b[32m━━━━━━━━━━━━━━━━━━━━\u001b[0m\u001b[37m\u001b[0m \u001b[1m0s\u001b[0m 22ms/step - acc: 0.8024 - loss: 0.6629"
     ]
    },
    {
     "name": "stderr",
     "output_type": "stream",
     "text": [
      "W0000 00:00:1710239840.072754      72 graph_launch.cc:671] Fallback to op-by-op mode because memset node breaks graph update\n",
      "W0000 00:00:1710239840.797989      72 graph_launch.cc:671] Fallback to op-by-op mode because memset node breaks graph update\n"
     ]
    },
    {
     "name": "stdout",
     "output_type": "stream",
     "text": [
      "\u001b[1m235/235\u001b[0m \u001b[32m━━━━━━━━━━━━━━━━━━━━\u001b[0m\u001b[37m\u001b[0m \u001b[1m16s\u001b[0m 29ms/step - acc: 0.8029 - loss: 0.6614 - val_acc: 0.9735 - val_loss: 0.0830\n",
      "Epoch 2/9\n",
      "\u001b[1m 21/235\u001b[0m \u001b[32m━\u001b[0m\u001b[37m━━━━━━━━━━━━━━━━━━━\u001b[0m \u001b[1m1s\u001b[0m 5ms/step - acc: 0.9674 - loss: 0.1022"
     ]
    },
    {
     "name": "stderr",
     "output_type": "stream",
     "text": [
      "W0000 00:00:1710239841.674724      75 graph_launch.cc:671] Fallback to op-by-op mode because memset node breaks graph update\n"
     ]
    },
    {
     "name": "stdout",
     "output_type": "stream",
     "text": [
      "\u001b[1m235/235\u001b[0m \u001b[32m━━━━━━━━━━━━━━━━━━━━\u001b[0m\u001b[37m\u001b[0m \u001b[1m1s\u001b[0m 6ms/step - acc: 0.9705 - loss: 0.0937 - val_acc: 0.9839 - val_loss: 0.0475\n",
      "Epoch 3/9\n",
      "\u001b[1m235/235\u001b[0m \u001b[32m━━━━━━━━━━━━━━━━━━━━\u001b[0m\u001b[37m\u001b[0m \u001b[1m1s\u001b[0m 6ms/step - acc: 0.9805 - loss: 0.0617 - val_acc: 0.9876 - val_loss: 0.0365\n",
      "Epoch 4/9\n",
      "\u001b[1m235/235\u001b[0m \u001b[32m━━━━━━━━━━━━━━━━━━━━\u001b[0m\u001b[37m\u001b[0m \u001b[1m1s\u001b[0m 6ms/step - acc: 0.9835 - loss: 0.0516 - val_acc: 0.9886 - val_loss: 0.0336\n",
      "Epoch 5/9\n",
      "\u001b[1m235/235\u001b[0m \u001b[32m━━━━━━━━━━━━━━━━━━━━\u001b[0m\u001b[37m\u001b[0m \u001b[1m1s\u001b[0m 6ms/step - acc: 0.9880 - loss: 0.0402 - val_acc: 0.9890 - val_loss: 0.0277\n",
      "Epoch 6/9\n",
      "\u001b[1m235/235\u001b[0m \u001b[32m━━━━━━━━━━━━━━━━━━━━\u001b[0m\u001b[37m\u001b[0m \u001b[1m1s\u001b[0m 6ms/step - acc: 0.9893 - loss: 0.0337 - val_acc: 0.9917 - val_loss: 0.0261\n",
      "Epoch 7/9\n",
      "\u001b[1m235/235\u001b[0m \u001b[32m━━━━━━━━━━━━━━━━━━━━\u001b[0m\u001b[37m\u001b[0m \u001b[1m1s\u001b[0m 6ms/step - acc: 0.9915 - loss: 0.0277 - val_acc: 0.9897 - val_loss: 0.0270\n",
      "Epoch 8/9\n",
      "\u001b[1m235/235\u001b[0m \u001b[32m━━━━━━━━━━━━━━━━━━━━\u001b[0m\u001b[37m\u001b[0m \u001b[1m1s\u001b[0m 6ms/step - acc: 0.9918 - loss: 0.0249 - val_acc: 0.9913 - val_loss: 0.0255\n",
      "Epoch 9/9\n",
      "\u001b[1m235/235\u001b[0m \u001b[32m━━━━━━━━━━━━━━━━━━━━\u001b[0m\u001b[37m\u001b[0m \u001b[1m1s\u001b[0m 6ms/step - acc: 0.9920 - loss: 0.0232 - val_acc: 0.9900 - val_loss: 0.0275\n"
     ]
    }
   ],
   "source": [
    "import warnings\n",
    "warnings.filterwarnings('ignore')\n",
    "from keras.optimizers import Adam\n",
    "from keras.losses import CategoricalCrossentropy\n",
    "from keras.metrics import CategoricalAccuracy\n",
    "\n",
    "cnn.compile(optimizer=Adam(learning_rate=0.001),\n",
    "            loss=CategoricalCrossentropy(),\n",
    "            metrics=[\"acc\"])\n",
    "\n",
    "history = cnn.fit(xtrain, ytrain, epochs=9, batch_size=256, validation_data=(xtest, ytest))"
   ]
  },
  {
   "cell_type": "code",
   "execution_count": 9,
   "id": "fc8577f9",
   "metadata": {
    "execution": {
     "iopub.execute_input": "2024-03-12T10:37:32.939955Z",
     "iopub.status.busy": "2024-03-12T10:37:32.939595Z",
     "iopub.status.idle": "2024-03-12T10:37:33.440547Z",
     "shell.execute_reply": "2024-03-12T10:37:33.439593Z"
    },
    "papermill": {
     "duration": 0.530647,
     "end_time": "2024-03-12T10:37:33.442960",
     "exception": false,
     "start_time": "2024-03-12T10:37:32.912313",
     "status": "completed"
    },
    "tags": []
   },
   "outputs": [
    {
     "data": {
      "image/png": "[encoded data removed]",
      "text/plain": [
       "<Figure size 500x500 with 1 Axes>"
      ]
     },
     "metadata": {},
     "output_type": "display_data"
    }
   ],
   "source": [
    "\n",
    "import matplotlib.pyplot as plt\n",
    "plt.figure(figsize=(5, 5))\n",
    "plt.plot(history.history['loss'], color='blue', label='loss');\n",
    "plt.plot(history.history['val_loss'], color='red', label='val_loss');\n",
    "plt.legend();\n",
    "plt.title('Loss vs Validation Loss');\n",
    "plt.tight_layout()"
   ]
  }
 ],
 "metadata": {
  "kaggle": {
   "accelerator": "nvidiaTeslaT4",
   "dataSources": [
    {
     "datasetId": 102285,
     "sourceId": 242592,
     "sourceType": "datasetVersion"
    }
   ],
   "dockerImageVersionId": 30665,
   "isGpuEnabled": true,
   "isInternetEnabled": true,
   "language": "python",
   "sourceType": "notebook"
  },
  "kernelspec": {
   "display_name": "Python 3",
   "language": "python",
   "name": "python3"
  },
  "language_info": {
   "codemirror_mode": {
    "name": "ipython",
    "version": 3
   },
   "file_extension": ".py",
   "mimetype": "text/x-python",
   "name": "python",
   "nbconvert_exporter": "python",
   "pygments_lexer": "ipython3",
   "version": "3.10.13"
  },
  "papermill": {
   "default_parameters": {},
   "duration": 58.977912,
   "end_time": "2024-03-12T10:37:36.541399",
   "environment_variables": {},
   "exception": null,
   "input_path": "__notebook__.ipynb",
   "output_path": "__notebook__.ipynb",
   "parameters": {},
   "start_time": "2024-03-12T10:36:37.563487",
   "version": "2.5.0"
  }
 },
 "nbformat": 4,
 "nbformat_minor": 5
}
